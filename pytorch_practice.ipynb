{
  "nbformat": 4,
  "nbformat_minor": 0,
  "metadata": {
    "colab": {
      "provenance": [],
      "authorship_tag": "ABX9TyMdfF8prpL4vT05Jxlrie3b",
      "include_colab_link": true
    },
    "kernelspec": {
      "name": "python3",
      "display_name": "Python 3"
    },
    "language_info": {
      "name": "python"
    }
  },
  "cells": [
    {
      "cell_type": "markdown",
      "metadata": {
        "id": "view-in-github",
        "colab_type": "text"
      },
      "source": [
        "<a href=\"https://colab.research.google.com/github/mouni001/AI/blob/main/pytorch_practice.ipynb\" target=\"_parent\"><img src=\"https://colab.research.google.com/assets/colab-badge.svg\" alt=\"Open In Colab\"/></a>"
      ]
    },
    {
      "cell_type": "code",
      "execution_count": null,
      "metadata": {
        "id": "8krqfOEGsddY"
      },
      "outputs": [],
      "source": []
    },
    {
      "cell_type": "markdown",
      "source": [
        "##look at this: https://www.learnpytorch.io/01_pytorch_workflow/\n"
      ],
      "metadata": {
        "id": "4H6gcXWWtixI"
      }
    },
    {
      "cell_type": "code",
      "source": [
        "what_were_covering = {1:\"fata(prepare and load)\",\n",
        "                      2: \"built model\",\n",
        "                      3:\"fitting the model to data (training)\",\n",
        "                      4:\"making predictions and loading a model\",\n",
        "                      5:\"putting it all togther\"}"
      ],
      "metadata": {
        "id": "IQBfV5dCtlTP"
      },
      "execution_count": 1,
      "outputs": []
    },
    {
      "cell_type": "code",
      "source": [
        "import torch\n",
        "from torch import nn #has all the builing blocks for neural networks\n",
        "import matplotlib.pyplot as plt\n",
        "\n",
        "#check Pytorch version\n",
        "torch.__version__\n"
      ],
      "metadata": {
        "colab": {
          "base_uri": "https://localhost:8080/",
          "height": 36
        },
        "id": "atVRKqsAuNFy",
        "outputId": "8dfb637e-896c-4f28-f391-a40ef2eb140e"
      },
      "execution_count": 2,
      "outputs": [
        {
          "output_type": "execute_result",
          "data": {
            "text/plain": [
              "'2.8.0+cu126'"
            ],
            "application/vnd.google.colaboratory.intrinsic+json": {
              "type": "string"
            }
          },
          "metadata": {},
          "execution_count": 2
        }
      ]
    },
    {
      "cell_type": "markdown",
      "source": [
        "## 1. Data (preparing and loading)\n",
        "\n",
        "Data can be almst anything in machine learning\n",
        "*Excel spreadsheat\n",
        "*images of any kins\n",
        "* videoas (youtube has lots of data...)\n",
        "* DNA\n",
        "* text\n",
        "\n",
        "Machine learning is a game of two parts:\n",
        "1. Get data into a numerical represenattion.\n",
        "2. Build a model to learn patterns in that numerical representation.\n",
        "\n",
        "\n",
        "To showcase this, lets create some *known* data using a linear regression formula.\n",
        "\n",
        "We'll use a linear regression formula to make a straight line *known* parameters"
      ],
      "metadata": {
        "id": "MP0sbPFTuyf_"
      }
    },
    {
      "cell_type": "code",
      "source": [
        "# Create *known* parameters\n",
        "weight = 0.7\n",
        "bias = 0.3\n",
        "\n",
        "# Create\n",
        "start = 0\n",
        "end = 1\n",
        "step = 0.02\n",
        "X = torch.arange(start, end, step).unsqueeze(dim=1)\n",
        "y = weight * X + bias\n",
        "\n",
        "X[:10], y[:10]"
      ],
      "metadata": {
        "colab": {
          "base_uri": "https://localhost:8080/"
        },
        "id": "mXKRm7woup0W",
        "outputId": "9ad9e446-d7eb-457e-a272-52fc75c61b31"
      },
      "execution_count": 3,
      "outputs": [
        {
          "output_type": "execute_result",
          "data": {
            "text/plain": [
              "(tensor([[0.0000],\n",
              "         [0.0200],\n",
              "         [0.0400],\n",
              "         [0.0600],\n",
              "         [0.0800],\n",
              "         [0.1000],\n",
              "         [0.1200],\n",
              "         [0.1400],\n",
              "         [0.1600],\n",
              "         [0.1800]]),\n",
              " tensor([[0.3000],\n",
              "         [0.3140],\n",
              "         [0.3280],\n",
              "         [0.3420],\n",
              "         [0.3560],\n",
              "         [0.3700],\n",
              "         [0.3840],\n",
              "         [0.3980],\n",
              "         [0.4120],\n",
              "         [0.4260]]))"
            ]
          },
          "metadata": {},
          "execution_count": 3
        }
      ]
    },
    {
      "cell_type": "code",
      "source": [
        "len(X), len(y)"
      ],
      "metadata": {
        "colab": {
          "base_uri": "https://localhost:8080/"
        },
        "id": "w2rz0jCsyN2w",
        "outputId": "d148fdb4-8a25-4c27-95a2-084dea928207"
      },
      "execution_count": 4,
      "outputs": [
        {
          "output_type": "execute_result",
          "data": {
            "text/plain": [
              "(50, 50)"
            ]
          },
          "metadata": {},
          "execution_count": 4
        }
      ]
    },
    {
      "cell_type": "markdown",
      "source": [
        "### Splitting data into training and test sets (one of the modet important conceot in machine learning in general)\n",
        "\n",
        "Lest's create a training and test set for our data"
      ],
      "metadata": {
        "id": "Z-ZEYY7jxHoL"
      }
    },
    {
      "cell_type": "code",
      "source": [
        "# create a train1test split\n",
        "train_split = int(0.8 * len(X))\n",
        "X_train, y_train = X[:train_split], y[:train_split]\n",
        "X_test, y_test = X[train_split:], y[train_split:]\n",
        "\n",
        "len(X_train), len(y_train), len(X_test), len(y_test)"
      ],
      "metadata": {
        "colab": {
          "base_uri": "https://localhost:8080/"
        },
        "id": "iwO3rZHswhvt",
        "outputId": "0a496736-57bd-4db4-edcb-543dfdb037f0"
      },
      "execution_count": 5,
      "outputs": [
        {
          "output_type": "execute_result",
          "data": {
            "text/plain": [
              "(40, 40, 10, 10)"
            ]
          },
          "metadata": {},
          "execution_count": 5
        }
      ]
    },
    {
      "cell_type": "code",
      "source": [],
      "metadata": {
        "id": "4vESGt9kzNd4"
      },
      "execution_count": 5,
      "outputs": []
    },
    {
      "cell_type": "markdown",
      "source": [
        "Visualize"
      ],
      "metadata": {
        "id": "NUhte3QAzKhe"
      }
    },
    {
      "cell_type": "code",
      "source": [
        "def plot_predictions(train_data=X_train,\n",
        "                      train_labels=y_train,\n",
        "                      test_data=X_test,\n",
        "                      test_labels=y_test,\n",
        "                      predictions=None):\n",
        "  \"\"\"\n",
        "  Plots training data, test data and compares predictions.\n",
        "  \"\"\"\n",
        "  plt.figure(figsize=(10,7))\n",
        "\n",
        "  # Plot training data in blue\n",
        "  plt.scatter(train_data, train_labels, c=\"b\", s=4, label=\"Training data\")\n",
        "\n",
        "  # Plot test data in green\n",
        "  plt.scatter(test_data, test_labels, c=\"m\", s=4, label=\"Testing data\")\n",
        "\n",
        "  if predictions is not None:\n",
        "    # Plot the predictions in red (predictions were made on the test data)\n",
        "    plt.scatter(test_data, predictions, c=\"r\", s=4, label=\"Predictions\")\n",
        "\n",
        "  # Show the legend\n",
        "  plt.legend(prop={\"size\": 14});"
      ],
      "metadata": {
        "id": "k_E3zWsJy0iN"
      },
      "execution_count": 6,
      "outputs": []
    },
    {
      "cell_type": "code",
      "source": [
        "plot_predictions()"
      ],
      "metadata": {
        "colab": {
          "base_uri": "https://localhost:8080/",
          "height": 599
        },
        "id": "UASLs1z30bke",
        "outputId": "9ea75eda-250b-4f72-adeb-4429fbd97074"
      },
      "execution_count": 7,
      "outputs": [
        {
          "output_type": "display_data",
          "data": {
            "text/plain": [
              "<Figure size 1000x700 with 1 Axes>"
            ],
            "image/png": "[encoded data removed]"
          },
          "metadata": {}
        }
      ]
    },
    {
      "cell_type": "markdown",
      "source": [
        "## 2. Build model\n",
        "\n",
        "first pytorch model\n",
        "ressources: https://realpython.com/python-classes/\n",
        "\n",
        "Start our model:\n",
        "* Satrt with random values (Weight and Bias)\n",
        "* Look at training data and adjust the random values to better represent (or get cloder to) the ideal values (the weight and bias values we used to create the data)\n",
        "\n",
        "How does it do so ?\n",
        "\n",
        "Trhough two main algorithms:\n",
        "1. Gradient descent\n",
        "2. Backpropagation"
      ],
      "metadata": {
        "id": "-SJkbEFG1Q06"
      }
    },
    {
      "cell_type": "code",
      "source": [
        "# Create a Linear Regression model class\n",
        "class LinearRegressionModel(nn.Module): # <- almost everything in PyTorch is a nn.Module (think of this as neural network lego blocks)\n",
        "    def __init__(self):\n",
        "        super().__init__()\n",
        "        self.weights = nn.Parameter(torch.randn(1, # <- start with random weights (this will get adjusted as the model learns)\n",
        "                                                dtype=torch.float), # <- PyTorch loves float32 by default\n",
        "                                   requires_grad=True) # <- can we update this value with gradient descent?)\n",
        "\n",
        "        self.bias = nn.Parameter(torch.randn(1, # <- start with random bias (this will get adjusted as the model learns)\n",
        "                                            dtype=torch.float), # <- PyTorch loves float32 by default\n",
        "                                requires_grad=True) # <- can we update this value with gradient descent?))\n",
        "\n",
        "    # Forward defines the computation in the model\n",
        "    def forward(self, x: torch.Tensor) -> torch.Tensor: # <- \"x\" is the input data (e.g. training/testing features)\n",
        "        return self.weights * x + self.bias # <- this is the linear regression formula (y = m*x + b)"
      ],
      "metadata": {
        "id": "bSrx0aRG1Qht"
      },
      "execution_count": 8,
      "outputs": []
    },
    {
      "cell_type": "markdown",
      "source": [
        "### Pytorch model building essentials\n",
        "\n",
        "* torch.nn - contains all of the buildings for computational graphs (a neural network can be considered a computational graph)\n",
        "* torch.nn.Parameters - what parameteters should our model try and learn, often a Pytorch layer from torch.nn will set these for us\n",
        "\n",
        "* torch.optim - this is where the optimizers in Pytorch live, they will helpgradient descent\n",
        "* def forward() - All nn.Module subclasses require you to overwrite forward(), this method defines what happens in the forward computation"
      ],
      "metadata": {
        "id": "ZDfnyZCOJYu0"
      }
    },
    {
      "cell_type": "markdown",
      "source": [
        "### Checking the content of our pytorch model\n",
        "\n",
        "Now we've created a model, let'S see what's inside...\n",
        "\n",
        "So we can check our model parameters or what's inside our model using '.parameters()'"
      ],
      "metadata": {
        "id": "xA8bpAT0LC3q"
      }
    },
    {
      "cell_type": "code",
      "source": [
        "# create a random seed\n",
        "torch.manual_seed(42)\n",
        "\n",
        "# create an instance of the model (this is a subclass of nn.Module)\n",
        "model_0 = LinearRegressionModel()\n",
        "\n",
        "# check the nn.Module state_dict()\n",
        "model_0.state_dict()"
      ],
      "metadata": {
        "colab": {
          "base_uri": "https://localhost:8080/"
        },
        "id": "EyoskShMAZhz",
        "outputId": "6658dd60-a13d-4bd6-fcee-4c906013eb7f"
      },
      "execution_count": 24,
      "outputs": [
        {
          "output_type": "execute_result",
          "data": {
            "text/plain": [
              "OrderedDict([('weights', tensor([0.3367])), ('bias', tensor([0.1288]))])"
            ]
          },
          "metadata": {},
          "execution_count": 24
        }
      ]
    },
    {
      "cell_type": "markdown",
      "source": [
        "### Making predictions using 'torch.inference_model()'\n",
        "\n",
        "To check our model's predictive power, let's see how well it predicts 'y_test' based on 'X_tets'.\n",
        "When we pass data through our model, it's going to run it through 'forward()' method."
      ],
      "metadata": {
        "id": "NqHaXR9gM7sh"
      }
    },
    {
      "cell_type": "code",
      "source": [],
      "metadata": {
        "id": "Fy_1qvJzO2mx"
      },
      "execution_count": 9,
      "outputs": []
    },
    {
      "cell_type": "code",
      "source": [
        "# make predictions (same word is inference) with model\n",
        "\n",
        "with torch.inference_mode():\n",
        "  y_preds = model_0(X_test)\n",
        "\n",
        "y_preds\n",
        "\n",
        "# this is the same as:\n",
        "# 1. y_preds = model_0(X_test)\n",
        "# y_preds <- outputs with extra args we don't need\n",
        "\n",
        "# 2. Note: in older PyTorch code you might also see torch.no_grad()\n",
        "# with torch.no_grad():\n",
        "#   y_preds = model_0(X_test)"
      ],
      "metadata": {
        "colab": {
          "base_uri": "https://localhost:8080/"
        },
        "id": "NldtA6B_0iKB",
        "outputId": "5de22a41-f581-4677-da39-8975074dfb34"
      },
      "execution_count": 25,
      "outputs": [
        {
          "output_type": "execute_result",
          "data": {
            "text/plain": [
              "tensor([[0.3982],\n",
              "        [0.4049],\n",
              "        [0.4116],\n",
              "        [0.4184],\n",
              "        [0.4251],\n",
              "        [0.4318],\n",
              "        [0.4386],\n",
              "        [0.4453],\n",
              "        [0.4520],\n",
              "        [0.4588]])"
            ]
          },
          "metadata": {},
          "execution_count": 25
        }
      ]
    },
    {
      "cell_type": "code",
      "source": [
        "y_test"
      ],
      "metadata": {
        "colab": {
          "base_uri": "https://localhost:8080/"
        },
        "id": "BMUUoK9cOYUN",
        "outputId": "1e490ffc-29b7-46dd-c172-8430b8ef680f"
      },
      "execution_count": 11,
      "outputs": [
        {
          "output_type": "execute_result",
          "data": {
            "text/plain": [
              "tensor([[0.8600],\n",
              "        [0.8740],\n",
              "        [0.8880],\n",
              "        [0.9020],\n",
              "        [0.9160],\n",
              "        [0.9300],\n",
              "        [0.9440],\n",
              "        [0.9580],\n",
              "        [0.9720],\n",
              "        [0.9860]])"
            ]
          },
          "metadata": {},
          "execution_count": 11
        }
      ]
    },
    {
      "cell_type": "markdown",
      "source": [
        "## 3. Train model\n",
        "\n",
        "The whole idea of training is for a model to move from some *unknown* parameters (these may be random) to some *known* paramaters.\n",
        "Or in other words, from a poor representation of the data to a better representation of the data.\n",
        "\n",
        "One way to measure how poor or how wrong your models predictions are is to use a loss function.\n",
        "\n",
        "* Note: Loss function may also be called cost function or criterion in different area\n",
        "\n",
        "* **: Loss Function:** A function to measure how wrong your model's predictions are to the idell outputs, lower is better.\n",
        "* **Optimizer:** Takes into account the loss function of a model and adjusts the model's parameters (e.g.: bias and weight) to improve teh loss fucntion\n",
        "\n",
        "And specifically for Pytorch, we need:\n",
        "* A training loop\n",
        "* A testing loop"
      ],
      "metadata": {
        "id": "UUW5D3RBP-7V"
      }
    },
    {
      "cell_type": "code",
      "source": [],
      "metadata": {
        "id": "oTYQbhZBOcZM"
      },
      "execution_count": 11,
      "outputs": []
    },
    {
      "cell_type": "code",
      "source": [
        "# Set up a loss function\n",
        "loss_fn = nn.L1Loss()\n",
        "\n",
        "# Setup an optimizer (stochastic gradient descent)\n",
        "optimizer = torch.optim.SGD(params=model_0.parameters(),\n",
        "                            lr=0.01)"
      ],
      "metadata": {
        "id": "0eldeWQVOfIQ"
      },
      "execution_count": 26,
      "outputs": []
    },
    {
      "cell_type": "markdown",
      "source": [
        "## Building a training loop (and testing loop) in Pytorch\n",
        "\n",
        "A couple of things we need in a training loop:\n",
        "0. Loop through the data\n",
        "1. forward pass (this involves data moving our model's 'forward()'functions to make predictions on data - also called forward propagation\n",
        "2. Calculate the loss (compare forward pass predictions to ground truth labels)\n",
        "3. Optmizer zero grad\n",
        "4. Loss backward - move backward the network to calculate the gardients of each of the parameters of our model with resoect to the loss (**backpropagation**)\n",
        "5. Optmizer step - use the optimizer to adjust our model's parameters to try and improve the loss (**gradient descent**)\n"
      ],
      "metadata": {
        "id": "tYRy0OYRdv48"
      }
    },
    {
      "cell_type": "code",
      "source": [
        "torch.manual_seed(42)\n",
        "# an epochs is one loop trhough the data...(this is a hyperparamters bcs we've set it ourselves)\n",
        "epochs = 200\n",
        "\n",
        "# track differnet values\n",
        "train_loss_values = []\n",
        "test_loss_values = []\n",
        "epoch_count = []\n",
        "\n",
        "# 0. loop through the data\n",
        "for epoch in range(epochs):\n",
        "  ### Training\n",
        "\n",
        "    # Put model in training mode (this is the default state of a model)\n",
        "    model_0.train()\n",
        "\n",
        "    # 1. Forward pass on train data using the forward() method inside\n",
        "    y_pred = model_0(X_train)\n",
        "    # print(y_pred)\n",
        "\n",
        "    # 2. Calculate the loss (how different are our models predictions to the ground truth)\n",
        "    loss = loss_fn(y_pred, y_train)\n",
        "\n",
        "    # 3. Zero grad of the optimizer\n",
        "    optimizer.zero_grad()\n",
        "\n",
        "    # 4. Loss backwards\n",
        "    loss.backward()\n",
        "\n",
        "    # 5. Progress the optimizer\n",
        "    optimizer.step() # by default how the optimizer changes will accumulate through the loop so... we have to zero them above step 3\n",
        "\n",
        "    ### Testing\n",
        "    model_0.eval() # turns off different settings in the model not needed for evaluations/testing (dropout)\n",
        "    with torch.inference_mode(): # turns off gardient tracking & a couple more things behind the scenes\n",
        "      # 1. Do a forward pass\n",
        "      test_pred = model_0(X_test)\n",
        "      # 2. Calculate the loss\n",
        "      test_loss = loss_fn(test_pred, y_test)\n",
        "\n",
        "    if epochs % 10 == 0:\n",
        "      epoch_count.append(epoch)\n",
        "      train_loss_values.append(loss)\n",
        "      test_loss_values.append(test_loss)\n",
        "      print(f\"Epoch: {epoch} | Loss: {loss} | Test loss: {test_loss}\")\n",
        "      print(model_0.state_dict())\n"
      ],
      "metadata": {
        "colab": {
          "base_uri": "https://localhost:8080/"
        },
        "id": "_fC6aQ-8cBlC",
        "outputId": "cefdb09d-152f-4b7f-eba4-b293f6b03909"
      },
      "execution_count": 28,
      "outputs": [
        {
          "output_type": "stream",
          "name": "stdout",
          "text": [
            "Epoch: 0 | Loss: 0.024458957836031914 | Test loss: 0.05646304413676262\n",
            "OrderedDict({'weights': tensor([0.5800]), 'bias': tensor([0.3503])})\n",
            "Epoch: 1 | Loss: 0.024110013619065285 | Test loss: 0.05536102131009102\n",
            "OrderedDict({'weights': tensor([0.5818]), 'bias': tensor([0.3498])})\n",
            "Epoch: 2 | Loss: 0.02376994863152504 | Test loss: 0.05494590476155281\n",
            "OrderedDict({'weights': tensor([0.5834]), 'bias': tensor([0.3488])})\n",
            "Epoch: 3 | Loss: 0.02342480979859829 | Test loss: 0.05384388566017151\n",
            "OrderedDict({'weights': tensor([0.5852]), 'bias': tensor([0.3483])})\n",
            "Epoch: 4 | Loss: 0.023080935701727867 | Test loss: 0.0534287691116333\n",
            "OrderedDict({'weights': tensor([0.5868]), 'bias': tensor([0.3473])})\n",
            "Epoch: 5 | Loss: 0.022739607840776443 | Test loss: 0.052326757460832596\n",
            "OrderedDict({'weights': tensor([0.5886]), 'bias': tensor([0.3468])})\n",
            "Epoch: 6 | Loss: 0.022391926497220993 | Test loss: 0.05191164091229439\n",
            "OrderedDict({'weights': tensor([0.5902]), 'bias': tensor([0.3458])})\n",
            "Epoch: 7 | Loss: 0.022054409608244896 | Test loss: 0.05080962926149368\n",
            "OrderedDict({'weights': tensor([0.5920]), 'bias': tensor([0.3453])})\n",
            "Epoch: 8 | Loss: 0.02170540764927864 | Test loss: 0.049707621335983276\n",
            "OrderedDict({'weights': tensor([0.5938]), 'bias': tensor([0.3448])})\n",
            "Epoch: 9 | Loss: 0.021366719156503677 | Test loss: 0.04929249361157417\n",
            "OrderedDict({'weights': tensor([0.5954]), 'bias': tensor([0.3438])})\n",
            "Epoch: 10 | Loss: 0.021020207554101944 | Test loss: 0.04819049686193466\n",
            "OrderedDict({'weights': tensor([0.5972]), 'bias': tensor([0.3433])})\n",
            "Epoch: 11 | Loss: 0.020677709951996803 | Test loss: 0.04777535796165466\n",
            "OrderedDict({'weights': tensor([0.5988]), 'bias': tensor([0.3423])})\n",
            "Epoch: 12 | Loss: 0.02033500373363495 | Test loss: 0.046673357486724854\n",
            "OrderedDict({'weights': tensor([0.6006]), 'bias': tensor([0.3418])})\n",
            "Epoch: 13 | Loss: 0.01998869702219963 | Test loss: 0.04625822976231575\n",
            "OrderedDict({'weights': tensor([0.6022]), 'bias': tensor([0.3408])})\n",
            "Epoch: 14 | Loss: 0.019649803638458252 | Test loss: 0.045156221836805344\n",
            "OrderedDict({'weights': tensor([0.6040]), 'bias': tensor([0.3403])})\n",
            "Epoch: 15 | Loss: 0.019300809130072594 | Test loss: 0.04405422881245613\n",
            "OrderedDict({'weights': tensor([0.6058]), 'bias': tensor([0.3398])})\n",
            "Epoch: 16 | Loss: 0.018963487818837166 | Test loss: 0.04363910108804703\n",
            "OrderedDict({'weights': tensor([0.6074]), 'bias': tensor([0.3388])})\n",
            "Epoch: 17 | Loss: 0.01861560344696045 | Test loss: 0.04253707453608513\n",
            "OrderedDict({'weights': tensor([0.6092]), 'bias': tensor([0.3383])})\n",
            "Epoch: 18 | Loss: 0.018274478614330292 | Test loss: 0.042121969163417816\n",
            "OrderedDict({'weights': tensor([0.6108]), 'bias': tensor([0.3373])})\n",
            "Epoch: 19 | Loss: 0.017930403351783752 | Test loss: 0.04101995751261711\n",
            "OrderedDict({'weights': tensor([0.6126]), 'bias': tensor([0.3368])})\n",
            "Epoch: 20 | Loss: 0.01758546568453312 | Test loss: 0.04060482233762741\n",
            "OrderedDict({'weights': tensor([0.6141]), 'bias': tensor([0.3358])})\n",
            "Epoch: 21 | Loss: 0.017245199531316757 | Test loss: 0.0395028181374073\n",
            "OrderedDict({'weights': tensor([0.6159]), 'bias': tensor([0.3353])})\n",
            "Epoch: 22 | Loss: 0.016896454617381096 | Test loss: 0.0390876941382885\n",
            "OrderedDict({'weights': tensor([0.6175]), 'bias': tensor([0.3343])})\n",
            "Epoch: 23 | Loss: 0.01656000316143036 | Test loss: 0.037985701113939285\n",
            "OrderedDict({'weights': tensor([0.6193]), 'bias': tensor([0.3338])})\n",
            "Epoch: 24 | Loss: 0.016210997477173805 | Test loss: 0.03688368946313858\n",
            "OrderedDict({'weights': tensor([0.6211]), 'bias': tensor([0.3333])})\n",
            "Epoch: 25 | Loss: 0.01587124727666378 | Test loss: 0.036468543112277985\n",
            "OrderedDict({'weights': tensor([0.6227]), 'bias': tensor([0.3323])})\n",
            "Epoch: 26 | Loss: 0.015525798313319683 | Test loss: 0.035366542637348175\n",
            "OrderedDict({'weights': tensor([0.6245]), 'bias': tensor([0.3318])})\n",
            "Epoch: 27 | Loss: 0.015182236209511757 | Test loss: 0.034951429814100266\n",
            "OrderedDict({'weights': tensor([0.6261]), 'bias': tensor([0.3308])})\n",
            "Epoch: 28 | Loss: 0.014840595424175262 | Test loss: 0.03384942561388016\n",
            "OrderedDict({'weights': tensor([0.6279]), 'bias': tensor([0.3303])})\n",
            "Epoch: 29 | Loss: 0.01449323259294033 | Test loss: 0.03343429043889046\n",
            "OrderedDict({'weights': tensor([0.6295]), 'bias': tensor([0.3293])})\n",
            "Epoch: 30 | Loss: 0.014155393466353416 | Test loss: 0.03233227878808975\n",
            "OrderedDict({'weights': tensor([0.6313]), 'bias': tensor([0.3288])})\n",
            "Epoch: 31 | Loss: 0.013806397095322609 | Test loss: 0.031230276450514793\n",
            "OrderedDict({'weights': tensor([0.6331]), 'bias': tensor([0.3283])})\n",
            "Epoch: 32 | Loss: 0.013468016870319843 | Test loss: 0.030815154314041138\n",
            "OrderedDict({'weights': tensor([0.6347]), 'bias': tensor([0.3273])})\n",
            "Epoch: 33 | Loss: 0.013121193274855614 | Test loss: 0.02971314825117588\n",
            "OrderedDict({'weights': tensor([0.6365]), 'bias': tensor([0.3268])})\n",
            "Epoch: 34 | Loss: 0.01277900766581297 | Test loss: 0.02929801307618618\n",
            "OrderedDict({'weights': tensor([0.6381]), 'bias': tensor([0.3258])})\n",
            "Epoch: 35 | Loss: 0.012435992248356342 | Test loss: 0.028196018189191818\n",
            "OrderedDict({'weights': tensor([0.6399]), 'bias': tensor([0.3253])})\n",
            "Epoch: 36 | Loss: 0.01208999752998352 | Test loss: 0.027780896052718163\n",
            "OrderedDict({'weights': tensor([0.6415]), 'bias': tensor([0.3243])})\n",
            "Epoch: 37 | Loss: 0.011750795878469944 | Test loss: 0.026678884401917458\n",
            "OrderedDict({'weights': tensor([0.6433]), 'bias': tensor([0.3238])})\n",
            "Epoch: 38 | Loss: 0.011401787400245667 | Test loss: 0.025576870888471603\n",
            "OrderedDict({'weights': tensor([0.6451]), 'bias': tensor([0.3233])})\n",
            "Epoch: 39 | Loss: 0.011064787395298481 | Test loss: 0.025161748751997948\n",
            "OrderedDict({'weights': tensor([0.6467]), 'bias': tensor([0.3223])})\n",
            "Epoch: 40 | Loss: 0.010716589167714119 | Test loss: 0.024059748277068138\n",
            "OrderedDict({'weights': tensor([0.6485]), 'bias': tensor([0.3218])})\n",
            "Epoch: 41 | Loss: 0.010375778190791607 | Test loss: 0.023644620552659035\n",
            "OrderedDict({'weights': tensor([0.6501]), 'bias': tensor([0.3208])})\n",
            "Epoch: 42 | Loss: 0.010031387209892273 | Test loss: 0.022542614489793777\n",
            "OrderedDict({'weights': tensor([0.6519]), 'bias': tensor([0.3203])})\n",
            "Epoch: 43 | Loss: 0.009686763398349285 | Test loss: 0.022127490490674973\n",
            "OrderedDict({'weights': tensor([0.6534]), 'bias': tensor([0.3193])})\n",
            "Epoch: 44 | Loss: 0.009346187114715576 | Test loss: 0.021025484427809715\n",
            "OrderedDict({'weights': tensor([0.6552]), 'bias': tensor([0.3188])})\n",
            "Epoch: 45 | Loss: 0.008997755125164986 | Test loss: 0.020610356703400612\n",
            "OrderedDict({'weights': tensor([0.6568]), 'bias': tensor([0.3178])})\n",
            "Epoch: 46 | Loss: 0.008660981431603432 | Test loss: 0.019508343189954758\n",
            "OrderedDict({'weights': tensor([0.6586]), 'bias': tensor([0.3173])})\n",
            "Epoch: 47 | Loss: 0.008311985060572624 | Test loss: 0.018406350165605545\n",
            "OrderedDict({'weights': tensor([0.6604]), 'bias': tensor([0.3168])})\n",
            "Epoch: 48 | Loss: 0.007972544990479946 | Test loss: 0.017991220578551292\n",
            "OrderedDict({'weights': tensor([0.6620]), 'bias': tensor([0.3158])})\n",
            "Epoch: 49 | Loss: 0.007626785431057215 | Test loss: 0.016889220103621483\n",
            "OrderedDict({'weights': tensor([0.6638]), 'bias': tensor([0.3153])})\n",
            "Epoch: 50 | Loss: 0.0072835334576666355 | Test loss: 0.016474086791276932\n",
            "OrderedDict({'weights': tensor([0.6654]), 'bias': tensor([0.3143])})\n",
            "Epoch: 51 | Loss: 0.006941580679267645 | Test loss: 0.0153720797970891\n",
            "OrderedDict({'weights': tensor([0.6672]), 'bias': tensor([0.3138])})\n",
            "Epoch: 52 | Loss: 0.006594526115804911 | Test loss: 0.01495695672929287\n",
            "OrderedDict({'weights': tensor([0.6688]), 'bias': tensor([0.3128])})\n",
            "Epoch: 53 | Loss: 0.006256377790123224 | Test loss: 0.013854950666427612\n",
            "OrderedDict({'weights': tensor([0.6706]), 'bias': tensor([0.3123])})\n",
            "Epoch: 54 | Loss: 0.005907376762479544 | Test loss: 0.012752944603562355\n",
            "OrderedDict({'weights': tensor([0.6724]), 'bias': tensor([0.3118])})\n",
            "Epoch: 55 | Loss: 0.005569315515458584 | Test loss: 0.012337815947830677\n",
            "OrderedDict({'weights': tensor([0.6740]), 'bias': tensor([0.3108])})\n",
            "Epoch: 56 | Loss: 0.005222178064286709 | Test loss: 0.011235815472900867\n",
            "OrderedDict({'weights': tensor([0.6758]), 'bias': tensor([0.3103])})\n",
            "Epoch: 57 | Loss: 0.004880306776612997 | Test loss: 0.010820692405104637\n",
            "OrderedDict({'weights': tensor([0.6774]), 'bias': tensor([0.3093])})\n",
            "Epoch: 58 | Loss: 0.004536976106464863 | Test loss: 0.009718680754303932\n",
            "OrderedDict({'weights': tensor([0.6792]), 'bias': tensor([0.3088])})\n",
            "Epoch: 59 | Loss: 0.00419129803776741 | Test loss: 0.009303552098572254\n",
            "OrderedDict({'weights': tensor([0.6808]), 'bias': tensor([0.3078])})\n",
            "Epoch: 60 | Loss: 0.0038517764769494534 | Test loss: 0.008201557211577892\n",
            "OrderedDict({'weights': tensor([0.6826]), 'bias': tensor([0.3073])})\n",
            "Epoch: 61 | Loss: 0.0035027749836444855 | Test loss: 0.007099539041519165\n",
            "OrderedDict({'weights': tensor([0.6844]), 'bias': tensor([0.3068])})\n",
            "Epoch: 62 | Loss: 0.0031660839449614286 | Test loss: 0.006684416439384222\n",
            "OrderedDict({'weights': tensor([0.6860]), 'bias': tensor([0.3058])})\n",
            "Epoch: 63 | Loss: 0.002817571861669421 | Test loss: 0.0055824099108576775\n",
            "OrderedDict({'weights': tensor([0.6878]), 'bias': tensor([0.3053])})\n",
            "Epoch: 64 | Loss: 0.0024770735763013363 | Test loss: 0.005167287774384022\n",
            "OrderedDict({'weights': tensor([0.6894]), 'bias': tensor([0.3043])})\n",
            "Epoch: 65 | Loss: 0.0021323717664927244 | Test loss: 0.004065275192260742\n",
            "OrderedDict({'weights': tensor([0.6912]), 'bias': tensor([0.3038])})\n",
            "Epoch: 66 | Loss: 0.0017880648374557495 | Test loss: 0.003650152590125799\n",
            "OrderedDict({'weights': tensor([0.6927]), 'bias': tensor([0.3028])})\n",
            "Epoch: 67 | Loss: 0.0014518328243866563 | Test loss: 0.0018701612716540694\n",
            "OrderedDict({'weights': tensor([0.6947]), 'bias': tensor([0.3028])})\n",
            "Epoch: 68 | Loss: 0.0011887758737429976 | Test loss: 0.005023092031478882\n",
            "OrderedDict({'weights': tensor([0.6951]), 'bias': tensor([0.2993])})\n",
            "Epoch: 69 | Loss: 0.0025885067880153656 | Test loss: 0.008447891101241112\n",
            "OrderedDict({'weights': tensor([0.6990]), 'bias': tensor([0.3093])})\n",
            "Epoch: 70 | Loss: 0.008932482451200485 | Test loss: 0.005023092031478882\n",
            "OrderedDict({'weights': tensor([0.6951]), 'bias': tensor([0.2993])})\n",
            "Epoch: 71 | Loss: 0.0025885067880153656 | Test loss: 0.008447891101241112\n",
            "OrderedDict({'weights': tensor([0.6990]), 'bias': tensor([0.3093])})\n",
            "Epoch: 72 | Loss: 0.008932482451200485 | Test loss: 0.005023092031478882\n",
            "OrderedDict({'weights': tensor([0.6951]), 'bias': tensor([0.2993])})\n",
            "Epoch: 73 | Loss: 0.0025885067880153656 | Test loss: 0.008447891101241112\n",
            "OrderedDict({'weights': tensor([0.6990]), 'bias': tensor([0.3093])})\n",
            "Epoch: 74 | Loss: 0.008932482451200485 | Test loss: 0.005023092031478882\n",
            "OrderedDict({'weights': tensor([0.6951]), 'bias': tensor([0.2993])})\n",
            "Epoch: 75 | Loss: 0.0025885067880153656 | Test loss: 0.008447891101241112\n",
            "OrderedDict({'weights': tensor([0.6990]), 'bias': tensor([0.3093])})\n",
            "Epoch: 76 | Loss: 0.008932482451200485 | Test loss: 0.005023092031478882\n",
            "OrderedDict({'weights': tensor([0.6951]), 'bias': tensor([0.2993])})\n",
            "Epoch: 77 | Loss: 0.0025885067880153656 | Test loss: 0.008447891101241112\n",
            "OrderedDict({'weights': tensor([0.6990]), 'bias': tensor([0.3093])})\n",
            "Epoch: 78 | Loss: 0.008932482451200485 | Test loss: 0.005023092031478882\n",
            "OrderedDict({'weights': tensor([0.6951]), 'bias': tensor([0.2993])})\n",
            "Epoch: 79 | Loss: 0.0025885067880153656 | Test loss: 0.008447891101241112\n",
            "OrderedDict({'weights': tensor([0.6990]), 'bias': tensor([0.3093])})\n",
            "Epoch: 80 | Loss: 0.008932482451200485 | Test loss: 0.005023092031478882\n",
            "OrderedDict({'weights': tensor([0.6951]), 'bias': tensor([0.2993])})\n",
            "Epoch: 81 | Loss: 0.0025885067880153656 | Test loss: 0.008447891101241112\n",
            "OrderedDict({'weights': tensor([0.6990]), 'bias': tensor([0.3093])})\n",
            "Epoch: 82 | Loss: 0.008932482451200485 | Test loss: 0.005023092031478882\n",
            "OrderedDict({'weights': tensor([0.6951]), 'bias': tensor([0.2993])})\n",
            "Epoch: 83 | Loss: 0.0025885067880153656 | Test loss: 0.008447891101241112\n",
            "OrderedDict({'weights': tensor([0.6990]), 'bias': tensor([0.3093])})\n",
            "Epoch: 84 | Loss: 0.008932482451200485 | Test loss: 0.005023092031478882\n",
            "OrderedDict({'weights': tensor([0.6951]), 'bias': tensor([0.2993])})\n",
            "Epoch: 85 | Loss: 0.0025885067880153656 | Test loss: 0.008447891101241112\n",
            "OrderedDict({'weights': tensor([0.6990]), 'bias': tensor([0.3093])})\n",
            "Epoch: 86 | Loss: 0.008932482451200485 | Test loss: 0.005023092031478882\n",
            "OrderedDict({'weights': tensor([0.6951]), 'bias': tensor([0.2993])})\n",
            "Epoch: 87 | Loss: 0.0025885067880153656 | Test loss: 0.008447891101241112\n",
            "OrderedDict({'weights': tensor([0.6990]), 'bias': tensor([0.3093])})\n",
            "Epoch: 88 | Loss: 0.008932482451200485 | Test loss: 0.005023092031478882\n",
            "OrderedDict({'weights': tensor([0.6951]), 'bias': tensor([0.2993])})\n",
            "Epoch: 89 | Loss: 0.0025885067880153656 | Test loss: 0.008447891101241112\n",
            "OrderedDict({'weights': tensor([0.6990]), 'bias': tensor([0.3093])})\n",
            "Epoch: 90 | Loss: 0.008932482451200485 | Test loss: 0.005023092031478882\n",
            "OrderedDict({'weights': tensor([0.6951]), 'bias': tensor([0.2993])})\n",
            "Epoch: 91 | Loss: 0.0025885067880153656 | Test loss: 0.008447891101241112\n",
            "OrderedDict({'weights': tensor([0.6990]), 'bias': tensor([0.3093])})\n",
            "Epoch: 92 | Loss: 0.008932482451200485 | Test loss: 0.005023092031478882\n",
            "OrderedDict({'weights': tensor([0.6951]), 'bias': tensor([0.2993])})\n",
            "Epoch: 93 | Loss: 0.0025885067880153656 | Test loss: 0.008447891101241112\n",
            "OrderedDict({'weights': tensor([0.6990]), 'bias': tensor([0.3093])})\n",
            "Epoch: 94 | Loss: 0.008932482451200485 | Test loss: 0.005023092031478882\n",
            "OrderedDict({'weights': tensor([0.6951]), 'bias': tensor([0.2993])})\n",
            "Epoch: 95 | Loss: 0.0025885067880153656 | Test loss: 0.008447891101241112\n",
            "OrderedDict({'weights': tensor([0.6990]), 'bias': tensor([0.3093])})\n",
            "Epoch: 96 | Loss: 0.008932482451200485 | Test loss: 0.005023092031478882\n",
            "OrderedDict({'weights': tensor([0.6951]), 'bias': tensor([0.2993])})\n",
            "Epoch: 97 | Loss: 0.0025885067880153656 | Test loss: 0.008447891101241112\n",
            "OrderedDict({'weights': tensor([0.6990]), 'bias': tensor([0.3093])})\n",
            "Epoch: 98 | Loss: 0.008932482451200485 | Test loss: 0.005023092031478882\n",
            "OrderedDict({'weights': tensor([0.6951]), 'bias': tensor([0.2993])})\n",
            "Epoch: 99 | Loss: 0.0025885067880153656 | Test loss: 0.008447891101241112\n",
            "OrderedDict({'weights': tensor([0.6990]), 'bias': tensor([0.3093])})\n",
            "Epoch: 100 | Loss: 0.008932482451200485 | Test loss: 0.005023092031478882\n",
            "OrderedDict({'weights': tensor([0.6951]), 'bias': tensor([0.2993])})\n",
            "Epoch: 101 | Loss: 0.0025885067880153656 | Test loss: 0.008447891101241112\n",
            "OrderedDict({'weights': tensor([0.6990]), 'bias': tensor([0.3093])})\n",
            "Epoch: 102 | Loss: 0.008932482451200485 | Test loss: 0.005023092031478882\n",
            "OrderedDict({'weights': tensor([0.6951]), 'bias': tensor([0.2993])})\n",
            "Epoch: 103 | Loss: 0.0025885067880153656 | Test loss: 0.008447891101241112\n",
            "OrderedDict({'weights': tensor([0.6990]), 'bias': tensor([0.3093])})\n",
            "Epoch: 104 | Loss: 0.008932482451200485 | Test loss: 0.005023092031478882\n",
            "OrderedDict({'weights': tensor([0.6951]), 'bias': tensor([0.2993])})\n",
            "Epoch: 105 | Loss: 0.0025885067880153656 | Test loss: 0.008447891101241112\n",
            "OrderedDict({'weights': tensor([0.6990]), 'bias': tensor([0.3093])})\n",
            "Epoch: 106 | Loss: 0.008932482451200485 | Test loss: 0.005023092031478882\n",
            "OrderedDict({'weights': tensor([0.6951]), 'bias': tensor([0.2993])})\n",
            "Epoch: 107 | Loss: 0.0025885067880153656 | Test loss: 0.008447891101241112\n",
            "OrderedDict({'weights': tensor([0.6990]), 'bias': tensor([0.3093])})\n",
            "Epoch: 108 | Loss: 0.008932482451200485 | Test loss: 0.005023092031478882\n",
            "OrderedDict({'weights': tensor([0.6951]), 'bias': tensor([0.2993])})\n",
            "Epoch: 109 | Loss: 0.0025885067880153656 | Test loss: 0.008447891101241112\n",
            "OrderedDict({'weights': tensor([0.6990]), 'bias': tensor([0.3093])})\n",
            "Epoch: 110 | Loss: 0.008932482451200485 | Test loss: 0.005023092031478882\n",
            "OrderedDict({'weights': tensor([0.6951]), 'bias': tensor([0.2993])})\n",
            "Epoch: 111 | Loss: 0.0025885067880153656 | Test loss: 0.008447891101241112\n",
            "OrderedDict({'weights': tensor([0.6990]), 'bias': tensor([0.3093])})\n",
            "Epoch: 112 | Loss: 0.008932482451200485 | Test loss: 0.005023092031478882\n",
            "OrderedDict({'weights': tensor([0.6951]), 'bias': tensor([0.2993])})\n",
            "Epoch: 113 | Loss: 0.0025885067880153656 | Test loss: 0.008447891101241112\n",
            "OrderedDict({'weights': tensor([0.6990]), 'bias': tensor([0.3093])})\n",
            "Epoch: 114 | Loss: 0.008932482451200485 | Test loss: 0.005023092031478882\n",
            "OrderedDict({'weights': tensor([0.6951]), 'bias': tensor([0.2993])})\n",
            "Epoch: 115 | Loss: 0.0025885067880153656 | Test loss: 0.008447891101241112\n",
            "OrderedDict({'weights': tensor([0.6990]), 'bias': tensor([0.3093])})\n",
            "Epoch: 116 | Loss: 0.008932482451200485 | Test loss: 0.005023092031478882\n",
            "OrderedDict({'weights': tensor([0.6951]), 'bias': tensor([0.2993])})\n",
            "Epoch: 117 | Loss: 0.0025885067880153656 | Test loss: 0.008447891101241112\n",
            "OrderedDict({'weights': tensor([0.6990]), 'bias': tensor([0.3093])})\n",
            "Epoch: 118 | Loss: 0.008932482451200485 | Test loss: 0.005023092031478882\n",
            "OrderedDict({'weights': tensor([0.6951]), 'bias': tensor([0.2993])})\n",
            "Epoch: 119 | Loss: 0.0025885067880153656 | Test loss: 0.008447891101241112\n",
            "OrderedDict({'weights': tensor([0.6990]), 'bias': tensor([0.3093])})\n",
            "Epoch: 120 | Loss: 0.008932482451200485 | Test loss: 0.005023092031478882\n",
            "OrderedDict({'weights': tensor([0.6951]), 'bias': tensor([0.2993])})\n",
            "Epoch: 121 | Loss: 0.0025885067880153656 | Test loss: 0.008447891101241112\n",
            "OrderedDict({'weights': tensor([0.6990]), 'bias': tensor([0.3093])})\n",
            "Epoch: 122 | Loss: 0.008932482451200485 | Test loss: 0.005023092031478882\n",
            "OrderedDict({'weights': tensor([0.6951]), 'bias': tensor([0.2993])})\n",
            "Epoch: 123 | Loss: 0.0025885067880153656 | Test loss: 0.008447891101241112\n",
            "OrderedDict({'weights': tensor([0.6990]), 'bias': tensor([0.3093])})\n",
            "Epoch: 124 | Loss: 0.008932482451200485 | Test loss: 0.005023092031478882\n",
            "OrderedDict({'weights': tensor([0.6951]), 'bias': tensor([0.2993])})\n",
            "Epoch: 125 | Loss: 0.0025885067880153656 | Test loss: 0.008447891101241112\n",
            "OrderedDict({'weights': tensor([0.6990]), 'bias': tensor([0.3093])})\n",
            "Epoch: 126 | Loss: 0.008932482451200485 | Test loss: 0.005023092031478882\n",
            "OrderedDict({'weights': tensor([0.6951]), 'bias': tensor([0.2993])})\n",
            "Epoch: 127 | Loss: 0.0025885067880153656 | Test loss: 0.008447891101241112\n",
            "OrderedDict({'weights': tensor([0.6990]), 'bias': tensor([0.3093])})\n",
            "Epoch: 128 | Loss: 0.008932482451200485 | Test loss: 0.005023092031478882\n",
            "OrderedDict({'weights': tensor([0.6951]), 'bias': tensor([0.2993])})\n",
            "Epoch: 129 | Loss: 0.0025885067880153656 | Test loss: 0.008447891101241112\n",
            "OrderedDict({'weights': tensor([0.6990]), 'bias': tensor([0.3093])})\n",
            "Epoch: 130 | Loss: 0.008932482451200485 | Test loss: 0.005023092031478882\n",
            "OrderedDict({'weights': tensor([0.6951]), 'bias': tensor([0.2993])})\n",
            "Epoch: 131 | Loss: 0.0025885067880153656 | Test loss: 0.008447891101241112\n",
            "OrderedDict({'weights': tensor([0.6990]), 'bias': tensor([0.3093])})\n",
            "Epoch: 132 | Loss: 0.008932482451200485 | Test loss: 0.005023092031478882\n",
            "OrderedDict({'weights': tensor([0.6951]), 'bias': tensor([0.2993])})\n",
            "Epoch: 133 | Loss: 0.0025885067880153656 | Test loss: 0.008447891101241112\n",
            "OrderedDict({'weights': tensor([0.6990]), 'bias': tensor([0.3093])})\n",
            "Epoch: 134 | Loss: 0.008932482451200485 | Test loss: 0.005023092031478882\n",
            "OrderedDict({'weights': tensor([0.6951]), 'bias': tensor([0.2993])})\n",
            "Epoch: 135 | Loss: 0.0025885067880153656 | Test loss: 0.008447891101241112\n",
            "OrderedDict({'weights': tensor([0.6990]), 'bias': tensor([0.3093])})\n",
            "Epoch: 136 | Loss: 0.008932482451200485 | Test loss: 0.005023092031478882\n",
            "OrderedDict({'weights': tensor([0.6951]), 'bias': tensor([0.2993])})\n",
            "Epoch: 137 | Loss: 0.0025885067880153656 | Test loss: 0.008447891101241112\n",
            "OrderedDict({'weights': tensor([0.6990]), 'bias': tensor([0.3093])})\n",
            "Epoch: 138 | Loss: 0.008932482451200485 | Test loss: 0.005023092031478882\n",
            "OrderedDict({'weights': tensor([0.6951]), 'bias': tensor([0.2993])})\n",
            "Epoch: 139 | Loss: 0.0025885067880153656 | Test loss: 0.008447891101241112\n",
            "OrderedDict({'weights': tensor([0.6990]), 'bias': tensor([0.3093])})\n",
            "Epoch: 140 | Loss: 0.008932482451200485 | Test loss: 0.005023092031478882\n",
            "OrderedDict({'weights': tensor([0.6951]), 'bias': tensor([0.2993])})\n",
            "Epoch: 141 | Loss: 0.0025885067880153656 | Test loss: 0.008447891101241112\n",
            "OrderedDict({'weights': tensor([0.6990]), 'bias': tensor([0.3093])})\n",
            "Epoch: 142 | Loss: 0.008932482451200485 | Test loss: 0.005023092031478882\n",
            "OrderedDict({'weights': tensor([0.6951]), 'bias': tensor([0.2993])})\n",
            "Epoch: 143 | Loss: 0.0025885067880153656 | Test loss: 0.008447891101241112\n",
            "OrderedDict({'weights': tensor([0.6990]), 'bias': tensor([0.3093])})\n",
            "Epoch: 144 | Loss: 0.008932482451200485 | Test loss: 0.005023092031478882\n",
            "OrderedDict({'weights': tensor([0.6951]), 'bias': tensor([0.2993])})\n",
            "Epoch: 145 | Loss: 0.0025885067880153656 | Test loss: 0.008447891101241112\n",
            "OrderedDict({'weights': tensor([0.6990]), 'bias': tensor([0.3093])})\n",
            "Epoch: 146 | Loss: 0.008932482451200485 | Test loss: 0.005023092031478882\n",
            "OrderedDict({'weights': tensor([0.6951]), 'bias': tensor([0.2993])})\n",
            "Epoch: 147 | Loss: 0.0025885067880153656 | Test loss: 0.008447891101241112\n",
            "OrderedDict({'weights': tensor([0.6990]), 'bias': tensor([0.3093])})\n",
            "Epoch: 148 | Loss: 0.008932482451200485 | Test loss: 0.005023092031478882\n",
            "OrderedDict({'weights': tensor([0.6951]), 'bias': tensor([0.2993])})\n",
            "Epoch: 149 | Loss: 0.0025885067880153656 | Test loss: 0.008447891101241112\n",
            "OrderedDict({'weights': tensor([0.6990]), 'bias': tensor([0.3093])})\n",
            "Epoch: 150 | Loss: 0.008932482451200485 | Test loss: 0.005023092031478882\n",
            "OrderedDict({'weights': tensor([0.6951]), 'bias': tensor([0.2993])})\n",
            "Epoch: 151 | Loss: 0.0025885067880153656 | Test loss: 0.008447891101241112\n",
            "OrderedDict({'weights': tensor([0.6990]), 'bias': tensor([0.3093])})\n",
            "Epoch: 152 | Loss: 0.008932482451200485 | Test loss: 0.005023092031478882\n",
            "OrderedDict({'weights': tensor([0.6951]), 'bias': tensor([0.2993])})\n",
            "Epoch: 153 | Loss: 0.0025885067880153656 | Test loss: 0.008447891101241112\n",
            "OrderedDict({'weights': tensor([0.6990]), 'bias': tensor([0.3093])})\n",
            "Epoch: 154 | Loss: 0.008932482451200485 | Test loss: 0.005023092031478882\n",
            "OrderedDict({'weights': tensor([0.6951]), 'bias': tensor([0.2993])})\n",
            "Epoch: 155 | Loss: 0.0025885067880153656 | Test loss: 0.008447891101241112\n",
            "OrderedDict({'weights': tensor([0.6990]), 'bias': tensor([0.3093])})\n",
            "Epoch: 156 | Loss: 0.008932482451200485 | Test loss: 0.005023092031478882\n",
            "OrderedDict({'weights': tensor([0.6951]), 'bias': tensor([0.2993])})\n",
            "Epoch: 157 | Loss: 0.0025885067880153656 | Test loss: 0.008447891101241112\n",
            "OrderedDict({'weights': tensor([0.6990]), 'bias': tensor([0.3093])})\n",
            "Epoch: 158 | Loss: 0.008932482451200485 | Test loss: 0.005023092031478882\n",
            "OrderedDict({'weights': tensor([0.6951]), 'bias': tensor([0.2993])})\n",
            "Epoch: 159 | Loss: 0.0025885067880153656 | Test loss: 0.008447891101241112\n",
            "OrderedDict({'weights': tensor([0.6990]), 'bias': tensor([0.3093])})\n",
            "Epoch: 160 | Loss: 0.008932482451200485 | Test loss: 0.005023092031478882\n",
            "OrderedDict({'weights': tensor([0.6951]), 'bias': tensor([0.2993])})\n",
            "Epoch: 161 | Loss: 0.0025885067880153656 | Test loss: 0.008447891101241112\n",
            "OrderedDict({'weights': tensor([0.6990]), 'bias': tensor([0.3093])})\n",
            "Epoch: 162 | Loss: 0.008932482451200485 | Test loss: 0.005023092031478882\n",
            "OrderedDict({'weights': tensor([0.6951]), 'bias': tensor([0.2993])})\n",
            "Epoch: 163 | Loss: 0.0025885067880153656 | Test loss: 0.008447891101241112\n",
            "OrderedDict({'weights': tensor([0.6990]), 'bias': tensor([0.3093])})\n",
            "Epoch: 164 | Loss: 0.008932482451200485 | Test loss: 0.005023092031478882\n",
            "OrderedDict({'weights': tensor([0.6951]), 'bias': tensor([0.2993])})\n",
            "Epoch: 165 | Loss: 0.0025885067880153656 | Test loss: 0.008447891101241112\n",
            "OrderedDict({'weights': tensor([0.6990]), 'bias': tensor([0.3093])})\n",
            "Epoch: 166 | Loss: 0.008932482451200485 | Test loss: 0.005023092031478882\n",
            "OrderedDict({'weights': tensor([0.6951]), 'bias': tensor([0.2993])})\n",
            "Epoch: 167 | Loss: 0.0025885067880153656 | Test loss: 0.008447891101241112\n",
            "OrderedDict({'weights': tensor([0.6990]), 'bias': tensor([0.3093])})\n",
            "Epoch: 168 | Loss: 0.008932482451200485 | Test loss: 0.005023092031478882\n",
            "OrderedDict({'weights': tensor([0.6951]), 'bias': tensor([0.2993])})\n",
            "Epoch: 169 | Loss: 0.0025885067880153656 | Test loss: 0.008447891101241112\n",
            "OrderedDict({'weights': tensor([0.6990]), 'bias': tensor([0.3093])})\n",
            "Epoch: 170 | Loss: 0.008932482451200485 | Test loss: 0.005023092031478882\n",
            "OrderedDict({'weights': tensor([0.6951]), 'bias': tensor([0.2993])})\n",
            "Epoch: 171 | Loss: 0.0025885067880153656 | Test loss: 0.008447891101241112\n",
            "OrderedDict({'weights': tensor([0.6990]), 'bias': tensor([0.3093])})\n",
            "Epoch: 172 | Loss: 0.008932482451200485 | Test loss: 0.005023092031478882\n",
            "OrderedDict({'weights': tensor([0.6951]), 'bias': tensor([0.2993])})\n",
            "Epoch: 173 | Loss: 0.0025885067880153656 | Test loss: 0.008447891101241112\n",
            "OrderedDict({'weights': tensor([0.6990]), 'bias': tensor([0.3093])})\n",
            "Epoch: 174 | Loss: 0.008932482451200485 | Test loss: 0.005023092031478882\n",
            "OrderedDict({'weights': tensor([0.6951]), 'bias': tensor([0.2993])})\n",
            "Epoch: 175 | Loss: 0.0025885067880153656 | Test loss: 0.008447891101241112\n",
            "OrderedDict({'weights': tensor([0.6990]), 'bias': tensor([0.3093])})\n",
            "Epoch: 176 | Loss: 0.008932482451200485 | Test loss: 0.005023092031478882\n",
            "OrderedDict({'weights': tensor([0.6951]), 'bias': tensor([0.2993])})\n",
            "Epoch: 177 | Loss: 0.0025885067880153656 | Test loss: 0.008447891101241112\n",
            "OrderedDict({'weights': tensor([0.6990]), 'bias': tensor([0.3093])})\n",
            "Epoch: 178 | Loss: 0.008932482451200485 | Test loss: 0.005023092031478882\n",
            "OrderedDict({'weights': tensor([0.6951]), 'bias': tensor([0.2993])})\n",
            "Epoch: 179 | Loss: 0.0025885067880153656 | Test loss: 0.008447891101241112\n",
            "OrderedDict({'weights': tensor([0.6990]), 'bias': tensor([0.3093])})\n",
            "Epoch: 180 | Loss: 0.008932482451200485 | Test loss: 0.005023092031478882\n",
            "OrderedDict({'weights': tensor([0.6951]), 'bias': tensor([0.2993])})\n",
            "Epoch: 181 | Loss: 0.0025885067880153656 | Test loss: 0.008447891101241112\n",
            "OrderedDict({'weights': tensor([0.6990]), 'bias': tensor([0.3093])})\n",
            "Epoch: 182 | Loss: 0.008932482451200485 | Test loss: 0.005023092031478882\n",
            "OrderedDict({'weights': tensor([0.6951]), 'bias': tensor([0.2993])})\n",
            "Epoch: 183 | Loss: 0.0025885067880153656 | Test loss: 0.008447891101241112\n",
            "OrderedDict({'weights': tensor([0.6990]), 'bias': tensor([0.3093])})\n",
            "Epoch: 184 | Loss: 0.008932482451200485 | Test loss: 0.005023092031478882\n",
            "OrderedDict({'weights': tensor([0.6951]), 'bias': tensor([0.2993])})\n",
            "Epoch: 185 | Loss: 0.0025885067880153656 | Test loss: 0.008447891101241112\n",
            "OrderedDict({'weights': tensor([0.6990]), 'bias': tensor([0.3093])})\n",
            "Epoch: 186 | Loss: 0.008932482451200485 | Test loss: 0.005023092031478882\n",
            "OrderedDict({'weights': tensor([0.6951]), 'bias': tensor([0.2993])})\n",
            "Epoch: 187 | Loss: 0.0025885067880153656 | Test loss: 0.008447891101241112\n",
            "OrderedDict({'weights': tensor([0.6990]), 'bias': tensor([0.3093])})\n",
            "Epoch: 188 | Loss: 0.008932482451200485 | Test loss: 0.005023092031478882\n",
            "OrderedDict({'weights': tensor([0.6951]), 'bias': tensor([0.2993])})\n",
            "Epoch: 189 | Loss: 0.0025885067880153656 | Test loss: 0.008447891101241112\n",
            "OrderedDict({'weights': tensor([0.6990]), 'bias': tensor([0.3093])})\n",
            "Epoch: 190 | Loss: 0.008932482451200485 | Test loss: 0.005023092031478882\n",
            "OrderedDict({'weights': tensor([0.6951]), 'bias': tensor([0.2993])})\n",
            "Epoch: 191 | Loss: 0.0025885067880153656 | Test loss: 0.008447891101241112\n",
            "OrderedDict({'weights': tensor([0.6990]), 'bias': tensor([0.3093])})\n",
            "Epoch: 192 | Loss: 0.008932482451200485 | Test loss: 0.005023092031478882\n",
            "OrderedDict({'weights': tensor([0.6951]), 'bias': tensor([0.2993])})\n",
            "Epoch: 193 | Loss: 0.0025885067880153656 | Test loss: 0.008447891101241112\n",
            "OrderedDict({'weights': tensor([0.6990]), 'bias': tensor([0.3093])})\n",
            "Epoch: 194 | Loss: 0.008932482451200485 | Test loss: 0.005023092031478882\n",
            "OrderedDict({'weights': tensor([0.6951]), 'bias': tensor([0.2993])})\n",
            "Epoch: 195 | Loss: 0.0025885067880153656 | Test loss: 0.008447891101241112\n",
            "OrderedDict({'weights': tensor([0.6990]), 'bias': tensor([0.3093])})\n",
            "Epoch: 196 | Loss: 0.008932482451200485 | Test loss: 0.005023092031478882\n",
            "OrderedDict({'weights': tensor([0.6951]), 'bias': tensor([0.2993])})\n",
            "Epoch: 197 | Loss: 0.0025885067880153656 | Test loss: 0.008447891101241112\n",
            "OrderedDict({'weights': tensor([0.6990]), 'bias': tensor([0.3093])})\n",
            "Epoch: 198 | Loss: 0.008932482451200485 | Test loss: 0.005023092031478882\n",
            "OrderedDict({'weights': tensor([0.6951]), 'bias': tensor([0.2993])})\n",
            "Epoch: 199 | Loss: 0.0025885067880153656 | Test loss: 0.008447891101241112\n",
            "OrderedDict({'weights': tensor([0.6990]), 'bias': tensor([0.3093])})\n"
          ]
        }
      ]
    },
    {
      "cell_type": "code",
      "source": [
        "model_0.state_dict()"
      ],
      "metadata": {
        "colab": {
          "base_uri": "https://localhost:8080/"
        },
        "id": "y20zza3bkqT9",
        "outputId": "6d9b6129-89d7-4822-9238-5ffa47be0e52"
      },
      "execution_count": 18,
      "outputs": [
        {
          "output_type": "execute_result",
          "data": {
            "text/plain": [
              "OrderedDict([('weights', tensor([0.6990])), ('bias', tensor([0.3093]))])"
            ]
          },
          "metadata": {},
          "execution_count": 18
        }
      ]
    },
    {
      "cell_type": "code",
      "source": [
        "plot_predictions(predictions = test_pred);"
      ],
      "metadata": {
        "id": "fqAH940zlAGZ",
        "colab": {
          "base_uri": "https://localhost:8080/",
          "height": 599
        },
        "outputId": "9dfec1cb-56d2-4224-d524-de9a5fd1cc17"
      },
      "execution_count": 29,
      "outputs": [
        {
          "output_type": "display_data",
          "data": {
            "text/plain": [
              "<Figure size 1000x700 with 1 Axes>"
            ],
            "image/png": "[encoded data removed]"
          },
          "metadata": {}
        }
      ]
    },
    {
      "cell_type": "code",
      "source": [
        "# plot the loss curves\n",
        "import numpy as np\n",
        "plt.plot(epoch_count, np.array(torch.tensor(train_loss_values).numpy()), label=\"Train loss\")\n",
        "plt.plot(epoch_count, test_loss_values, label=\"Test loss\")\n",
        "plt.title(\"Training and test loss curves\")\n",
        "plt.ylabel(\"Loss\")\n",
        "plt.xlabel(\"Epochs\")\n",
        "plt.legend()"
      ],
      "metadata": {
        "colab": {
          "base_uri": "https://localhost:8080/",
          "height": 489
        },
        "id": "rXThVxl15YDb",
        "outputId": "4e1ea985-44a8-4511-b857-c4fbc0fbf630"
      },
      "execution_count": 34,
      "outputs": [
        {
          "output_type": "execute_result",
          "data": {
            "text/plain": [
              "<matplotlib.legend.Legend at 0x7a58fc5426c0>"
            ]
          },
          "metadata": {},
          "execution_count": 34
        },
        {
          "output_type": "display_data",
          "data": {
            "text/plain": [
              "<Figure size 640x480 with 1 Axes>"
            ],
            "image/png": "[encoded data removed]"
          },
          "metadata": {}
        }
      ]
    },
    {
      "cell_type": "markdown",
      "source": [
        "### Saviing a model in Pytorch\n",
        "\n",
        "There are three main methods you should know about for savng and loading in\n",
        "Pytorch.\n",
        "\n",
        "1. 'torch.save()' - allows you to save a Pytorch object in Python's pickle format\n",
        "2. 'torch.load()' - allows you to load a savec Pytorch object\n",
        "3. 'torch.nn.Module.load_state_dict()' - this allows to load a model'S saved state dictionary\n",
        "extra ressources: https://docs.pytorch.org/tutorials/beginner/saving_loading_models.html"
      ],
      "metadata": {
        "id": "ylDL3tGF-G5J"
      }
    },
    {
      "cell_type": "code",
      "source": [
        "# saving our Pytorch model\n",
        "from pathlib import Path\n",
        "\n",
        "# 1. Create  a models directory\n",
        "MODEL_PATH = Path(\"models\")\n",
        "MODEL_PATH.mkdir(parents=True, exist_ok=True)\n",
        "\n",
        "# 2. Create model save path\n",
        "MODEL_NAME = \"01_pytorch_workflow_model.pth\"\n",
        "MODEL_SAVE_PATH = MODEL_PATH / MODEL_NAME\n",
        "\n",
        "# 3. Save the model state dict\n",
        "print(f\"Saving model to: {MODEL_SAVE_PATH}\")\n",
        "torch.save(obj=model_0.state_dict(),\n",
        "           f=MODEL_SAVE_PATH)"
      ],
      "metadata": {
        "colab": {
          "base_uri": "https://localhost:8080/"
        },
        "id": "JFbrIkCF8Q0l",
        "outputId": "91dcbc35-1027-43fa-df40-298182f7ff25"
      },
      "execution_count": 36,
      "outputs": [
        {
          "output_type": "stream",
          "name": "stdout",
          "text": [
            "Saving model to: models/01_pytorch_workflow_model.pth\n"
          ]
        }
      ]
    },
    {
      "cell_type": "code",
      "source": [
        "!ls -l models\n"
      ],
      "metadata": {
        "colab": {
          "base_uri": "https://localhost:8080/"
        },
        "id": "L8z3ue7a-x5_",
        "outputId": "7daf3bb8-baf1-4bb0-ced9-52ac16516331"
      },
      "execution_count": 37,
      "outputs": [
        {
          "output_type": "stream",
          "name": "stdout",
          "text": [
            "total 4\n",
            "-rw-r--r-- 1 root root 2101 Sep  8 20:24 01_pytorch_workflow_model.pth\n"
          ]
        }
      ]
    },
    {
      "cell_type": "markdown",
      "source": [
        "## Loading a Pytorch model\n",
        "\n",
        "Since we saved our model's 'state_dict()' rather the entire model, we'll create a new instance of our model class and load saved 'the state dict' into that."
      ],
      "metadata": {
        "id": "z608l_xOB4nG"
      }
    },
    {
      "cell_type": "code",
      "source": [
        "# to load in a saved state_dict we need to instanciate a new instance of our model class\n",
        "loaded_model_0 = LinearRegressionModel()\n",
        "\n",
        "# load the saved state_dict of model_0 (this will update the new instance with updated parameters)\n",
        "loaded_model_0.load_state_dict(torch.load(f=MODEL_SAVE_PATH))\n",
        "# print out the state_dict()\n",
        "print(loaded_model_0.state_dict())"
      ],
      "metadata": {
        "colab": {
          "base_uri": "https://localhost:8080/"
        },
        "id": "sM0v9qsXBsFF",
        "outputId": "482d9c1c-cd87-489c-9bd9-e368f15a5fc9"
      },
      "execution_count": 39,
      "outputs": [
        {
          "output_type": "stream",
          "name": "stdout",
          "text": [
            "OrderedDict({'weights': tensor([0.6990]), 'bias': tensor([0.3093])})\n"
          ]
        }
      ]
    },
    {
      "cell_type": "code",
      "source": [
        "loaded_model_0.state_dict()"
      ],
      "metadata": {
        "colab": {
          "base_uri": "https://localhost:8080/"
        },
        "id": "UI6-43phC8Tf",
        "outputId": "21c3b7d3-3176-4f18-c9c1-735330fbd7c5"
      },
      "execution_count": 40,
      "outputs": [
        {
          "output_type": "execute_result",
          "data": {
            "text/plain": [
              "OrderedDict([('weights', tensor([0.6990])), ('bias', tensor([0.3093]))])"
            ]
          },
          "metadata": {},
          "execution_count": 40
        }
      ]
    },
    {
      "cell_type": "code",
      "source": [
        "# make some predictions with our loaded model\n",
        "loaded_model_0.eval()\n",
        "with torch.inference_mode():\n",
        "  loaded_model_preds = loaded_model_0(X_test)\n",
        "loaded_model_preds"
      ],
      "metadata": {
        "colab": {
          "base_uri": "https://localhost:8080/"
        },
        "id": "3ePi1VrQDpb3",
        "outputId": "cd610709-60f2-4345-fbb4-0a1423b09879"
      },
      "execution_count": 41,
      "outputs": [
        {
          "output_type": "execute_result",
          "data": {
            "text/plain": [
              "tensor([[0.8685],\n",
              "        [0.8825],\n",
              "        [0.8965],\n",
              "        [0.9105],\n",
              "        [0.9245],\n",
              "        [0.9384],\n",
              "        [0.9524],\n",
              "        [0.9664],\n",
              "        [0.9804],\n",
              "        [0.9944]])"
            ]
          },
          "metadata": {},
          "execution_count": 41
        }
      ]
    },
    {
      "cell_type": "code",
      "source": [
        "model_0.eval()\n",
        "with torch.inference_mode():\n",
        "  y_preds = model_0(X_test)\n",
        "y_preds"
      ],
      "metadata": {
        "colab": {
          "base_uri": "https://localhost:8080/"
        },
        "id": "r8-bMyCrEH3A",
        "outputId": "104f61b4-53bf-4e8b-fe97-ebc469146142"
      },
      "execution_count": 44,
      "outputs": [
        {
          "output_type": "execute_result",
          "data": {
            "text/plain": [
              "tensor([[0.8685],\n",
              "        [0.8825],\n",
              "        [0.8965],\n",
              "        [0.9105],\n",
              "        [0.9245],\n",
              "        [0.9384],\n",
              "        [0.9524],\n",
              "        [0.9664],\n",
              "        [0.9804],\n",
              "        [0.9944]])"
            ]
          },
          "metadata": {},
          "execution_count": 44
        }
      ]
    },
    {
      "cell_type": "code",
      "source": [
        "y_preds == loaded_model_preds"
      ],
      "metadata": {
        "colab": {
          "base_uri": "https://localhost:8080/"
        },
        "id": "ZMCR0383EOLW",
        "outputId": "747ef4a9-bc7f-4203-be68-1160f7d925fb"
      },
      "execution_count": 45,
      "outputs": [
        {
          "output_type": "execute_result",
          "data": {
            "text/plain": [
              "tensor([[True],\n",
              "        [True],\n",
              "        [True],\n",
              "        [True],\n",
              "        [True],\n",
              "        [True],\n",
              "        [True],\n",
              "        [True],\n",
              "        [True],\n",
              "        [True]])"
            ]
          },
          "metadata": {},
          "execution_count": 45
        }
      ]
    },
    {
      "cell_type": "code",
      "source": [],
      "metadata": {
        "id": "dk8Z586lEmn9"
      },
      "execution_count": null,
      "outputs": []
    }
  ]
}