{
  "nbformat": 4,
  "nbformat_minor": 0,
  "metadata": {
    "colab": {
      "provenance": [],
      "authorship_tag": "ABX9TyNl9kDOvs1+hJkro8bAxAJW",
      "include_colab_link": true
    },
    "kernelspec": {
      "name": "python3",
      "display_name": "Python 3"
    },
    "language_info": {
      "name": "python"
    }
  },
  "cells": [
    {
      "cell_type": "markdown",
      "metadata": {
        "id": "view-in-github",
        "colab_type": "text"
      },
      "source": [
        "<a href=\"https://colab.research.google.com/github/mouni001/AI/blob/main/pytorch_practice.ipynb\" target=\"_parent\"><img src=\"https://colab.research.google.com/assets/colab-badge.svg\" alt=\"Open In Colab\"/></a>"
      ]
    },
    {
      "cell_type": "code",
      "execution_count": 1,
      "metadata": {
        "id": "8krqfOEGsddY"
      },
      "outputs": [],
      "source": []
    },
    {
      "cell_type": "markdown",
      "source": [
        "##look at this: https://www.learnpytorch.io/01_pytorch_workflow/\n"
      ],
      "metadata": {
        "id": "4H6gcXWWtixI"
      }
    },
    {
      "cell_type": "code",
      "source": [
        "what_were_covering = {1:\"fata(prepare and load)\",\n",
        "                      2: \"built model\",\n",
        "                      3:\"fitting the model to data (training)\",\n",
        "                      4:\"making predictions and loading a model\",\n",
        "                      5:\"putting it all togther\"}"
      ],
      "metadata": {
        "id": "IQBfV5dCtlTP"
      },
      "execution_count": 2,
      "outputs": []
    },
    {
      "cell_type": "code",
      "source": [
        "import torch\n",
        "from torch import nn #has all the builing blocks for neural networks\n",
        "import matplotlib.pyplot as plt\n",
        "\n",
        "#check Pytorch version\n",
        "torch.__version__\n"
      ],
      "metadata": {
        "colab": {
          "base_uri": "https://localhost:8080/",
          "height": 36
        },
        "id": "atVRKqsAuNFy",
        "outputId": "65db23d0-d0e5-440a-a3a0-c2f006c6cfcd"
      },
      "execution_count": 3,
      "outputs": [
        {
          "output_type": "execute_result",
          "data": {
            "text/plain": [
              "'2.8.0+cu126'"
            ],
            "application/vnd.google.colaboratory.intrinsic+json": {
              "type": "string"
            }
          },
          "metadata": {},
          "execution_count": 3
        }
      ]
    },
    {
      "cell_type": "markdown",
      "source": [
        "## 1. Data (preparing and loading)\n",
        "\n",
        "Data can be almst anything in machine learning\n",
        "*Excel spreadsheat\n",
        "*images of any kins\n",
        "* videoas (youtube has lots of data...)\n",
        "* DNA\n",
        "* text\n",
        "\n",
        "Machine learning is a game of two parts:\n",
        "1. Get data into a numerical represenattion.\n",
        "2. Build a model to learn patterns in that numerical representation.\n",
        "\n",
        "\n",
        "To showcase this, lets create some *known* data using a linear regression formula.\n",
        "\n",
        "We'll use a linear regression formula to make a straight line *known* parameters"
      ],
      "metadata": {
        "id": "MP0sbPFTuyf_"
      }
    },
    {
      "cell_type": "code",
      "source": [
        "# Create *known* parameters\n",
        "weight = 0.7\n",
        "bias = 0.3\n",
        "\n",
        "# Create\n",
        "start = 0\n",
        "end = 1\n",
        "step = 0.02\n",
        "X = torch.arange(start, end, step).unsqueeze(dim=1)\n",
        "y = weight * X + bias\n",
        "\n",
        "X[:10], y[:10]"
      ],
      "metadata": {
        "colab": {
          "base_uri": "https://localhost:8080/"
        },
        "id": "mXKRm7woup0W",
        "outputId": "e3dbe7de-cfa5-4a63-f680-8ebcecf63128"
      },
      "execution_count": 4,
      "outputs": [
        {
          "output_type": "execute_result",
          "data": {
            "text/plain": [
              "(tensor([[0.0000],\n",
              "         [0.0200],\n",
              "         [0.0400],\n",
              "         [0.0600],\n",
              "         [0.0800],\n",
              "         [0.1000],\n",
              "         [0.1200],\n",
              "         [0.1400],\n",
              "         [0.1600],\n",
              "         [0.1800]]),\n",
              " tensor([[0.3000],\n",
              "         [0.3140],\n",
              "         [0.3280],\n",
              "         [0.3420],\n",
              "         [0.3560],\n",
              "         [0.3700],\n",
              "         [0.3840],\n",
              "         [0.3980],\n",
              "         [0.4120],\n",
              "         [0.4260]]))"
            ]
          },
          "metadata": {},
          "execution_count": 4
        }
      ]
    },
    {
      "cell_type": "code",
      "source": [
        "len(X), len(y)"
      ],
      "metadata": {
        "colab": {
          "base_uri": "https://localhost:8080/"
        },
        "id": "w2rz0jCsyN2w",
        "outputId": "ae11c543-4c29-4f8e-a7d8-a4bc08f2f925"
      },
      "execution_count": 5,
      "outputs": [
        {
          "output_type": "execute_result",
          "data": {
            "text/plain": [
              "(50, 50)"
            ]
          },
          "metadata": {},
          "execution_count": 5
        }
      ]
    },
    {
      "cell_type": "markdown",
      "source": [
        "### Splitting data into training and test sets (one of the modet important conceot in machine learning in general)\n",
        "\n",
        "Lest's create a training and test set for our data"
      ],
      "metadata": {
        "id": "Z-ZEYY7jxHoL"
      }
    },
    {
      "cell_type": "code",
      "source": [
        "# create a train1test split\n",
        "train_split = int(0.8 * len(X))\n",
        "X_train, y_train = X[:train_split], y[:train_split]\n",
        "X_test, y_test = X[train_split:], y[train_split:]\n",
        "\n",
        "len(X_train), len(y_train), len(X_test), len(y_test)"
      ],
      "metadata": {
        "colab": {
          "base_uri": "https://localhost:8080/"
        },
        "id": "iwO3rZHswhvt",
        "outputId": "9d2c2483-abdf-4b14-b174-ca6892dbb7b7"
      },
      "execution_count": 6,
      "outputs": [
        {
          "output_type": "execute_result",
          "data": {
            "text/plain": [
              "(40, 40, 10, 10)"
            ]
          },
          "metadata": {},
          "execution_count": 6
        }
      ]
    },
    {
      "cell_type": "code",
      "source": [],
      "metadata": {
        "id": "4vESGt9kzNd4"
      },
      "execution_count": 6,
      "outputs": []
    },
    {
      "cell_type": "markdown",
      "source": [
        "Visualize"
      ],
      "metadata": {
        "id": "NUhte3QAzKhe"
      }
    },
    {
      "cell_type": "code",
      "source": [
        "def plot_predictions(train_data=X_train,\n",
        "                      train_labels=y_train,\n",
        "                      test_data=X_test,\n",
        "                      test_labels=y_test,\n",
        "                      predictions=None):\n",
        "  \"\"\"\n",
        "  Plots training data, test data and compares predictions.\n",
        "  \"\"\"\n",
        "  plt.figure(figsize=(10,7))\n",
        "\n",
        "  # Plot training data in blue\n",
        "  plt.scatter(train_data, train_labels, c=\"b\", s=4, label=\"Training data\")\n",
        "\n",
        "  # Plot test data in green\n",
        "  plt.scatter(test_data, test_labels, c=\"m\", s=4, label=\"Testing data\")\n",
        "\n",
        "  if predictions is not None:\n",
        "    # Plot the predictions in red (predictions were made on the test data)\n",
        "    plt.scatter(test_data, predictions, c=\"r\", s=4, label=\"Predictions\")\n",
        "\n",
        "  # Show the legend\n",
        "  plt.legend(prop={\"size\": 14});"
      ],
      "metadata": {
        "id": "k_E3zWsJy0iN"
      },
      "execution_count": 7,
      "outputs": []
    },
    {
      "cell_type": "code",
      "source": [
        "plot_predictions()"
      ],
      "metadata": {
        "colab": {
          "base_uri": "https://localhost:8080/",
          "height": 471
        },
        "id": "UASLs1z30bke",
        "outputId": "20ca6088-d162-496f-c1ab-66d83b88e227"
      },
      "execution_count": 8,
      "outputs": [
        {
          "output_type": "display_data",
          "data": {
            "text/plain": [
              "<Figure size 1000x700 with 1 Axes>"
            ],
            "image/png": "[encoded data removed]"
          },
          "metadata": {}
        }
      ]
    },
    {
      "cell_type": "markdown",
      "source": [
        "## 2. Build model\n",
        "\n",
        "first pytorch model\n",
        "ressources: https://realpython.com/python-classes/\n",
        "\n",
        "Start our model:\n",
        "* Satrt with random values (Weight and Bias)\n",
        "* Look at training data and adjust the random values to better represent (or get cloder to) the ideal values (the weight and bias values we used to create the data)\n",
        "\n",
        "How does it do so ?\n",
        "\n",
        "Trhough two main algorithms:\n",
        "1. Gradient descent\n",
        "2. Backpropagation"
      ],
      "metadata": {
        "id": "-SJkbEFG1Q06"
      }
    },
    {
      "cell_type": "code",
      "source": [
        "# Create a Linear Regression model class\n",
        "class LinearRegressionModel(nn.Module): # <- almost everything in PyTorch is a nn.Module (think of this as neural network lego blocks)\n",
        "    def __init__(self):\n",
        "        super().__init__()\n",
        "        self.weights = nn.Parameter(torch.randn(1, # <- start with random weights (this will get adjusted as the model learns)\n",
        "                                                dtype=torch.float), # <- PyTorch loves float32 by default\n",
        "                                   requires_grad=True) # <- can we update this value with gradient descent?)\n",
        "\n",
        "        self.bias = nn.Parameter(torch.randn(1, # <- start with random bias (this will get adjusted as the model learns)\n",
        "                                            dtype=torch.float), # <- PyTorch loves float32 by default\n",
        "                                requires_grad=True) # <- can we update this value with gradient descent?))\n",
        "\n",
        "    # Forward defines the computation in the model\n",
        "    def forward(self, x: torch.Tensor) -> torch.Tensor: # <- \"x\" is the input data (e.g. training/testing features)\n",
        "        return self.weights * x + self.bias # <- this is the linear regression formula (y = m*x + b)"
      ],
      "metadata": {
        "id": "bSrx0aRG1Qht"
      },
      "execution_count": 9,
      "outputs": []
    },
    {
      "cell_type": "markdown",
      "source": [
        "### Pytorch model building essentials\n",
        "\n",
        "* torch.nn - contains all of the buildings for computational graphs (a neural network can be considered a computational graph)\n",
        "* torch.nn.Parameters - what parameteters should our model try and learn, often a Pytorch layer from torch.nn will set these for us\n",
        "\n",
        "* torch.optim - this is where the optimizers in Pytorch live, they will helpgradient descent\n",
        "* def forward() - All nn.Module subclasses require you to overwrite forward(), this method defines what happens in the forward computation"
      ],
      "metadata": {
        "id": "ZDfnyZCOJYu0"
      }
    },
    {
      "cell_type": "markdown",
      "source": [
        "### Checking the content of our pytorch model\n",
        "\n",
        "Now we've created a model, let'S see what's inside...\n",
        "\n",
        "So we can check our model parameters or what's inside our model using '.parameters()'"
      ],
      "metadata": {
        "id": "xA8bpAT0LC3q"
      }
    },
    {
      "cell_type": "code",
      "source": [
        "# create a random seed\n",
        "torch.manual_seed(42)\n",
        "\n",
        "# create an instance of the model (this is a subclass of nn.Module)\n",
        "model_0 = LinearRegressionModel()\n",
        "\n",
        "# check the nn.Module state_dict()\n",
        "model_0.state_dict()"
      ],
      "metadata": {
        "colab": {
          "base_uri": "https://localhost:8080/"
        },
        "id": "EyoskShMAZhz",
        "outputId": "df87cc62-b146-4154-a965-cb2848b590ae"
      },
      "execution_count": 10,
      "outputs": [
        {
          "output_type": "execute_result",
          "data": {
            "text/plain": [
              "OrderedDict([('weights', tensor([0.3367])), ('bias', tensor([0.1288]))])"
            ]
          },
          "metadata": {},
          "execution_count": 10
        }
      ]
    },
    {
      "cell_type": "markdown",
      "source": [
        "### Making predictions using 'torch.inference_model()'\n",
        "\n",
        "To check our model's predictive power, let's see how well it predicts 'y_test' based on 'X_tets'.\n",
        "When we pass data through our model, it's going to run it through 'forward()' method."
      ],
      "metadata": {
        "id": "NqHaXR9gM7sh"
      }
    },
    {
      "cell_type": "code",
      "source": [],
      "metadata": {
        "id": "Fy_1qvJzO2mx"
      },
      "execution_count": 10,
      "outputs": []
    },
    {
      "cell_type": "code",
      "source": [
        "# make predictions (same word is inference) with model\n",
        "\n",
        "with torch.inference_mode():\n",
        "  y_preds = model_0(X_test)\n",
        "\n",
        "y_preds\n",
        "\n",
        "# this is the same as:\n",
        "# 1. y_preds = model_0(X_test)\n",
        "# y_preds <- outputs with extra args we don't need\n",
        "\n",
        "# 2. Note: in older PyTorch code you might also see torch.no_grad()\n",
        "# with torch.no_grad():\n",
        "#   y_preds = model_0(X_test)"
      ],
      "metadata": {
        "colab": {
          "base_uri": "https://localhost:8080/"
        },
        "id": "NldtA6B_0iKB",
        "outputId": "ac71f962-cfa0-4666-c1a6-2950fb64f4e3"
      },
      "execution_count": 11,
      "outputs": [
        {
          "output_type": "execute_result",
          "data": {
            "text/plain": [
              "tensor([[0.3982],\n",
              "        [0.4049],\n",
              "        [0.4116],\n",
              "        [0.4184],\n",
              "        [0.4251],\n",
              "        [0.4318],\n",
              "        [0.4386],\n",
              "        [0.4453],\n",
              "        [0.4520],\n",
              "        [0.4588]])"
            ]
          },
          "metadata": {},
          "execution_count": 11
        }
      ]
    },
    {
      "cell_type": "code",
      "source": [
        "y_test"
      ],
      "metadata": {
        "colab": {
          "base_uri": "https://localhost:8080/"
        },
        "id": "BMUUoK9cOYUN",
        "outputId": "023f5fbe-1a97-4ceb-bc3b-e0fc9b7aa341"
      },
      "execution_count": 12,
      "outputs": [
        {
          "output_type": "execute_result",
          "data": {
            "text/plain": [
              "tensor([[0.8600],\n",
              "        [0.8740],\n",
              "        [0.8880],\n",
              "        [0.9020],\n",
              "        [0.9160],\n",
              "        [0.9300],\n",
              "        [0.9440],\n",
              "        [0.9580],\n",
              "        [0.9720],\n",
              "        [0.9860]])"
            ]
          },
          "metadata": {},
          "execution_count": 12
        }
      ]
    },
    {
      "cell_type": "markdown",
      "source": [
        "## 3. Train model\n",
        "\n",
        "The whole idea of training is for a model to move from some *unknown* parameters (these may be random) to some *known* paramaters.\n",
        "Or in other words, from a poor representation of the data to a better representation of the data.\n",
        "\n",
        "One way to measure how poor or how wrong your models predictions are is to use a loss function.\n",
        "\n",
        "* Note: Loss function may also be called cost function or criterion in different area\n",
        "\n",
        "* **: Loss Function:** A function to measure how wrong your model's predictions are to the idell outputs, lower is better.\n",
        "* **Optimizer:** Takes into account the loss function of a model and adjusts the model's parameters (e.g.: bias and weight) to improve teh loss fucntion\n",
        "\n",
        "And specifically for Pytorch, we need:\n",
        "* A training loop\n",
        "* A testing loop"
      ],
      "metadata": {
        "id": "UUW5D3RBP-7V"
      }
    },
    {
      "cell_type": "code",
      "source": [],
      "metadata": {
        "id": "oTYQbhZBOcZM"
      },
      "execution_count": 12,
      "outputs": []
    },
    {
      "cell_type": "code",
      "source": [
        "# Set up a loss function\n",
        "loss_fn = nn.L1Loss()\n",
        "\n",
        "# Setup an optimizer (stochastic gradient descent)\n",
        "optimizer = torch.optim.SGD(params=model_0.parameters(),\n",
        "                            lr=0.01)"
      ],
      "metadata": {
        "id": "0eldeWQVOfIQ"
      },
      "execution_count": 13,
      "outputs": []
    },
    {
      "cell_type": "markdown",
      "source": [
        "## Building a training loop (and testing loop) in Pytorch\n",
        "\n",
        "A couple of things we need in a training loop:\n",
        "0. Loop through the data\n",
        "1. forward pass (this involves data moving our model's 'forward()'functions to make predictions on data - also called forward propagation\n",
        "2. Calculate the loss (compare forward pass predictions to ground truth labels)\n",
        "3. Optmizer zero grad\n",
        "4. Loss backward - move backward the network to calculate the gardients of each of the parameters of our model with resoect to the loss (**backpropagation**)\n",
        "5. Optmizer step - use the optimizer to adjust our model's parameters to try and improve the loss (**gradient descent**)\n"
      ],
      "metadata": {
        "id": "tYRy0OYRdv48"
      }
    },
    {
      "cell_type": "code",
      "source": [
        "torch.manual_seed(42)\n",
        "# an epochs is one loop trhough the data...(this is a hyperparamters bcs we've set it ourselves)\n",
        "epochs = 1\n",
        "# 0. loop through the data\n",
        "for epoch in range(epochs):\n",
        "  ### Training\n",
        "\n",
        "    # Put model in training mode (this is the default state of a model)\n",
        "    model_0.train()\n",
        "\n",
        "    # 1. Forward pass on train data using the forward() method inside\n",
        "    y_pred = model_0(X_train)\n",
        "    # print(y_pred)\n",
        "\n",
        "    # 2. Calculate the loss (how different are our models predictions to the ground truth)\n",
        "    loss = loss_fn(y_pred, y_train)\n",
        "\n",
        "    # 3. Zero grad of the optimizer\n",
        "    optimizer.zero_grad()\n",
        "\n",
        "    # 4. Loss backwards\n",
        "    loss.backward()\n",
        "\n",
        "    # 5. Progress the optimizer\n",
        "    optimizer.step() # by default how the optimizer changes will accumulate through the loop so... we have to zero them above step 3\n",
        "\n",
        "    ### Testing\n",
        "    model_0.eval() # turns off different settings in the model not needed for evaluations/testing (dropout)\n",
        "    with torch.inference_mode(): # turns off gardient tracking & a couple more things behind the scenes\n",
        "      # 1. Do a forward pass\n",
        "      test_pred = model_0(X_test)\n",
        "      # 2. Calculate the loss\n",
        "      test_loss = loss_fn(test_pred, y_test)\n",
        "\n",
        "    print(f\"Epoch: {epoch} | Loss: {loss}\")\n"
      ],
      "metadata": {
        "colab": {
          "base_uri": "https://localhost:8080/"
        },
        "id": "_fC6aQ-8cBlC",
        "outputId": "a16068e3-5a62-4dfb-c3f9-2ea7c300a254"
      },
      "execution_count": 22,
      "outputs": [
        {
          "output_type": "stream",
          "name": "stdout",
          "text": [
            "Epoch: 0 | Loss: 0.2552763521671295\n"
          ]
        }
      ]
    },
    {
      "cell_type": "code",
      "source": [
        "model_0.state_dict()"
      ],
      "metadata": {
        "colab": {
          "base_uri": "https://localhost:8080/"
        },
        "id": "y20zza3bkqT9",
        "outputId": "e1d06546-fda0-4b06-ea6a-e4d1c6520b93"
      },
      "execution_count": 18,
      "outputs": [
        {
          "output_type": "execute_result",
          "data": {
            "text/plain": [
              "OrderedDict([('weights', tensor([0.3445])), ('bias', tensor([0.1488]))])"
            ]
          },
          "metadata": {},
          "execution_count": 18
        }
      ]
    },
    {
      "cell_type": "code",
      "source": [],
      "metadata": {
        "id": "fqAH940zlAGZ"
      },
      "execution_count": null,
      "outputs": []
    }
  ]
}